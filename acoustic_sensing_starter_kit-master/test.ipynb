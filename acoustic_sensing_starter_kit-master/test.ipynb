{
 "cells": [
  {
   "cell_type": "code",
   "execution_count": 1,
   "metadata": {},
   "outputs": [
    {
     "name": "stdout",
     "output_type": "stream",
     "text": [
      "Available audio devices:\n",
      "Index 3: MAYA44USB Ch12 (ESI Audio Devic - Input: 4\n",
      "Index 4: MAYA44USB Ch34 (ESI Audio Devic - Input: 4\n",
      "Index 5: MAYA44USB Multichannel 4 (ESI A - Input: 4\n",
      "Index 10: MAYA44USB Ch34 (ESI Audio Devic - Output: 4\n",
      "Index 12: MAYA44USB Ch12 (ESI Audio Devic - Output: 4\n",
      "Index 16: MAYA44USB Ch12 (ESI Audio Device (WDM) - MAYA44USB) - Input: 4\n",
      "Index 17: MAYA44USB Ch34 (ESI Audio Device (WDM) - MAYA44USB) - Input: 4\n",
      "Index 18: MAYA44USB Multichannel 4 (ESI Audio Device (WDM) - MAYA44USB) - Input: 4\n",
      "Index 22: Speakers (ESI Audio Device (WDM) - MAYA44USB) - Output: 4\n",
      "Index 23: MAYA44USB Ch34 (ESI Audio Device (WDM) - MAYA44USB) - Output: 4\n",
      "Index 25: MAYA44USB Ch12 (ESI Audio Device (WDM) - MAYA44USB) - Output: 4\n",
      "Index 27: Speakers (ESI Audio Device (WDM) - MAYA44USB) - Output: 4\n",
      "Index 28: MAYA44USB Ch34 (ESI Audio Device (WDM) - MAYA44USB) - Output: 2\n",
      "Index 31: MAYA44USB Ch12 (ESI Audio Device (WDM) - MAYA44USB) - Output: 2\n",
      "Index 33: MAYA44USB Ch12 (ESI Audio Device (WDM) - MAYA44USB) - Input: 2\n",
      "Index 35: MAYA44USB Ch34 (ESI Audio Device (WDM) - MAYA44USB) - Input: 2\n",
      "Index 36: MAYA44USB Multichannel 4 (ESI Audio Device (WDM) - MAYA44USB) - Input: 4\n",
      "Index 43: Speakers (MAYA44USB Multichannel 4) - Output: 4\n",
      "Index 44: Line Out (MAYA44USB Ch12) - Output: 4\n",
      "Index 45: Line Out (MAYA44USB Ch34) - Output: 4\n",
      "Index 46: MAYA44USB Multichannel 4 (MAYA44USB Multichannel 4) - Input: 4\n",
      "Index 47: MAYA44USB Ch12 (MAYA44USB Ch12) - Input: 4\n",
      "Index 48: MAYA44USB Ch34 (MAYA44USB Ch34) - Input: 4\n"
     ]
    }
   ],
   "source": [
    "import pyaudio\n",
    "\n",
    "audio = pyaudio.PyAudio()\n",
    "\n",
    "# List all available devices\n",
    "print(\"Available audio devices:\")\n",
    "for i in range(audio.get_device_count()):\n",
    "    device_info = audio.get_device_info_by_index(i)\n",
    "    is_input = device_info['maxInputChannels'] > 0\n",
    "    is_output = device_info['maxOutputChannels'] > 0\n",
    "    device_type = []\n",
    "    if \"MAYA\" not in device_info['name']:\n",
    "        continue\n",
    "    if is_input:\n",
    "        device_type.append(\"Input: \" + str(device_info['maxInputChannels']))\n",
    "    if is_output:\n",
    "        device_type.append(\"Output: \" + str(device_info['maxOutputChannels']))\n",
    "    device_type_str = \", \".join(device_type)\n",
    "    print(f\"Index {i}: {device_info['name']} - {device_type_str}\")\n"
   ]
  },
  {
   "cell_type": "code",
   "execution_count": null,
   "metadata": {},
   "outputs": [],
   "source": []
  },
  {
   "cell_type": "code",
   "execution_count": null,
   "metadata": {},
   "outputs": [],
   "source": []
  },
  {
   "cell_type": "code",
   "execution_count": null,
   "metadata": {},
   "outputs": [],
   "source": []
  }
 ],
 "metadata": {
  "kernelspec": {
   "display_name": "base",
   "language": "python",
   "name": "python3"
  },
  "language_info": {
   "codemirror_mode": {
    "name": "ipython",
    "version": 3
   },
   "file_extension": ".py",
   "mimetype": "text/x-python",
   "name": "python",
   "nbconvert_exporter": "python",
   "pygments_lexer": "ipython3",
   "version": "3.11.5"
  }
 },
 "nbformat": 4,
 "nbformat_minor": 2
}
